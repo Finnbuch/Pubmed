{
 "cells": [
  {
   "cell_type": "code",
   "execution_count": 1,
   "metadata": {},
   "outputs": [],
   "source": [
    "### this file prepares the data for input into the sql database ###\n",
    "###                      by Finn Buchrieser                     ###\n"
   ]
  },
  {
   "cell_type": "code",
   "execution_count": 2,
   "metadata": {},
   "outputs": [],
   "source": [
    "import pandas as pd\n",
    "import numpy as np"
   ]
  },
  {
   "cell_type": "code",
   "execution_count": 3,
   "metadata": {},
   "outputs": [],
   "source": [
    "df_retraction_prerpo = pd.read_csv(r\"E:\\Organization_Project\\files\\Retractionwatch\\retactions_preprocessed.csv\")\n",
    "\n",
    "df_retraction_whole = pd.read_csv(r\"E:\\Organization_Project\\files\\Retractionwatch\\vader_whole_retraction.csv\")\n",
    "\n",
    "df_retraction_thirds = pd.read_csv(r\"E:\\Organization_Project\\files\\Retractionwatch\\vader_thirds_retraction.csv\")"
   ]
  },
  {
   "cell_type": "code",
   "execution_count": 2,
   "metadata": {},
   "outputs": [],
   "source": [
    "# import files\n",
    "\n",
    "df_prepro = pd.read_csv(r'E:\\Organization_Project\\files\\Preprocessed_Combined_Meta_Dataset.csv', dtype={\"SCIENCE\": str})\n",
    "\n",
    "df_valence_whole = pd.read_csv(r'E:\\Organization_Project\\files\\df_vader_whole_meta_combined.csv')\n",
    "\n",
    "df_thirds_valence = pd.read_csv(r'E:\\Organization_Project\\files\\df_vader_thirds_meta_combined.csv')\n"
   ]
  },
  {
   "cell_type": "code",
   "execution_count": 3,
   "metadata": {},
   "outputs": [
    {
     "name": "stderr",
     "output_type": "stream",
     "text": [
      "C:\\Users\\buchries\\AppData\\Local\\Temp\\ipykernel_8204\\2844666710.py:1: DtypeWarning: Columns (5) have mixed types. Specify dtype option on import or set low_memory=False.\n",
      "  df_raw_text = pd.read_csv(r\"E:\\Organization_Project\\files\\raw_abtracts_combined.csv\")\n"
     ]
    }
   ],
   "source": [
    "df_raw_text = pd.read_csv(r\"E:\\Organization_Project\\files\\raw_abtracts_combined.csv\")"
   ]
  },
  {
   "cell_type": "code",
   "execution_count": 11,
   "metadata": {},
   "outputs": [
    {
     "data": {
      "text/html": [
       "<div>\n",
       "<style scoped>\n",
       "    .dataframe tbody tr th:only-of-type {\n",
       "        vertical-align: middle;\n",
       "    }\n",
       "\n",
       "    .dataframe tbody tr th {\n",
       "        vertical-align: top;\n",
       "    }\n",
       "\n",
       "    .dataframe thead th {\n",
       "        text-align: right;\n",
       "    }\n",
       "</style>\n",
       "<table border=\"1\" class=\"dataframe\">\n",
       "  <thead>\n",
       "    <tr style=\"text-align: right;\">\n",
       "      <th></th>\n",
       "      <th>Abstract</th>\n",
       "      <th>id</th>\n",
       "    </tr>\n",
       "  </thead>\n",
       "  <tbody>\n",
       "    <tr>\n",
       "      <th>0</th>\n",
       "      <td>Background: MicroRNAs and isomiRs play importa...</td>\n",
       "      <td>1</td>\n",
       "    </tr>\n",
       "    <tr>\n",
       "      <th>1</th>\n",
       "      <td>Background: A major route for cell-to-cell sig...</td>\n",
       "      <td>2</td>\n",
       "    </tr>\n",
       "    <tr>\n",
       "      <th>2</th>\n",
       "      <td>Background: Virtually all invasive cervical ca...</td>\n",
       "      <td>3</td>\n",
       "    </tr>\n",
       "    <tr>\n",
       "      <th>3</th>\n",
       "      <td>Nanoscale bismuth oxyiodide is widely studied ...</td>\n",
       "      <td>4</td>\n",
       "    </tr>\n",
       "    <tr>\n",
       "      <th>4</th>\n",
       "      <td>Background: Dilated cardiomyopathy is a final ...</td>\n",
       "      <td>5</td>\n",
       "    </tr>\n",
       "  </tbody>\n",
       "</table>\n",
       "</div>"
      ],
      "text/plain": [
       "                                            Abstract  id\n",
       "0  Background: MicroRNAs and isomiRs play importa...   1\n",
       "1  Background: A major route for cell-to-cell sig...   2\n",
       "2  Background: Virtually all invasive cervical ca...   3\n",
       "3  Nanoscale bismuth oxyiodide is widely studied ...   4\n",
       "4  Background: Dilated cardiomyopathy is a final ...   5"
      ]
     },
     "execution_count": 11,
     "metadata": {},
     "output_type": "execute_result"
    }
   ],
   "source": [
    "df_raw_text.head(5)"
   ]
  },
  {
   "cell_type": "code",
   "execution_count": 10,
   "metadata": {},
   "outputs": [],
   "source": [
    "df_raw_text.drop(columns=['DATE', \"AUTHOR\", \"ID\", \"JOURNAL\", \"KEYWORD\",\"SCIENCE\"], inplace=True)"
   ]
  },
  {
   "cell_type": "code",
   "execution_count": 20,
   "metadata": {},
   "outputs": [],
   "source": [
    "df_retraction_data = df_retraction_prerpo.loc[:,[\"id\", \"ArticleType\", \"RetractionNature\"]]"
   ]
  },
  {
   "cell_type": "code",
   "execution_count": 34,
   "metadata": {},
   "outputs": [],
   "source": [
    "# create unique id for each abstract\n",
    "df_prepro[\"id\"] = df_prepro.index + 1\n",
    "df_raw_text[\"id\"] = df_raw_text.index + 1\n",
    "df_retraction_prerpo[\"id\"] = df_retraction_prerpo.index + 1 + df_prepro.id.max()\n",
    "# copy ids to other dfs\n",
    "df_thirds_valence[\"id\"] = df_prepro[\"id\"]\n",
    "df_valence_whole[\"id\"] = df_prepro[\"id\"]\n",
    "\n",
    "df_retraction_whole[\"id\"] = df_retraction_prerpo[\"id\"]\n",
    "df_retraction_thirds[\"id\"] = df_retraction_prerpo[\"id\"]\n",
    "df_retraction_prerpo[\"id\"] = df_retraction_prerpo[\"id\"]"
   ]
  },
  {
   "cell_type": "code",
   "execution_count": 52,
   "metadata": {},
   "outputs": [
    {
     "data": {
      "text/plain": [
       "array(['(BLS) Biology - Cellular;(BLS) Genetics;(BLS) Microbiology;',\n",
       "       '(HSC) Medicine - Ophthalmology;(HSC) Medicine - Surgery;',\n",
       "       '(HSC) Medicine - Cardiovascular;(HSC) Medicine - Pulmonology;(HSC) Radiology/Imaging;',\n",
       "       ...,\n",
       "       '(BLS) Biochemistry;(HSC) Medicine - Cardiology;(HSC) Medicine - Cardiovascular;(HSC) Medicine - Drug Design;(HSC) Medicine - Pharmacology;',\n",
       "       '(BLS) Biology - Cellular;(BLS) Genetics;(BLS) Microbiology;',\n",
       "       '(BLS) Biology - Cancer;(BLS) Biology - Cellular;(BLS) Biology - Molecular;'],\n",
       "      dtype=object)"
      ]
     },
     "execution_count": 52,
     "metadata": {},
     "output_type": "execute_result"
    }
   ],
   "source": [
    "df_retraction_meta.Subject.values"
   ]
  },
  {
   "cell_type": "code",
   "execution_count": 37,
   "metadata": {},
   "outputs": [
    {
     "data": {
      "text/plain": [
       "Index(['OriginalPaperDate', 'pos_1', 'pos_2', 'pos_3', 'neg_1', 'neg_2',\n",
       "       'neg_3', 'neu_1', 'neu_2', 'neu_3', 'compound_1', 'compound_2',\n",
       "       'compound_3', 'OriginalPaperPubMedID', 'id'],\n",
       "      dtype='object')"
      ]
     },
     "execution_count": 37,
     "metadata": {},
     "output_type": "execute_result"
    }
   ],
   "source": [
    "df_retraction_thirds.columns"
   ]
  },
  {
   "cell_type": "code",
   "execution_count": 38,
   "metadata": {},
   "outputs": [],
   "source": [
    "# slicing the metadat into seperate df\n",
    "#df_meta = df_prepro.loc[:,[\"id\", \"JOURNAL\", \"AUTHOR\", \"SCIENCE\", \"DATE\", \"ID\", \"KEYWORD\"]]\n",
    "df_retraction_meta = df_retraction_prerpo.loc[:,[\"id\", \"Journal\", \"Author\", \"Subject\", \"OriginalPaperDate\", \"OriginalPaperPubMedID\"]]\n",
    "df_retraction_meta[\"keywords\"] = None\n",
    "df_retraction_meta[\"Citations\"] = None"
   ]
  },
  {
   "cell_type": "code",
   "execution_count": 41,
   "metadata": {},
   "outputs": [
    {
     "data": {
      "text/plain": [
       "Index(['id', 'Journal', 'Author', 'Subject', 'OriginalPaperDate',\n",
       "       'OriginalPaperPubMedID', 'keywords', 'Citations'],\n",
       "      dtype='object')"
      ]
     },
     "execution_count": 41,
     "metadata": {},
     "output_type": "execute_result"
    }
   ],
   "source": [
    "df_retraction_meta.columns"
   ]
  },
  {
   "cell_type": "code",
   "execution_count": 40,
   "metadata": {},
   "outputs": [],
   "source": [
    "# dropping unecessary columns\n",
    "\n",
    "# df_prepro.drop(columns = [\"AUTHOR\", \"DATE\", \"ID\", \"SCIENCE\", \"JOURNAL\", \"KEYWORD\"], inplace = True)\n",
    "# df_thirds_valence.drop(columns=[\"DATE\",\"ID\"], inplace=True)\n",
    "# df_valence_whole.drop(columns=['DATE', \"ID\"], inplace=True)\n",
    "\n",
    "df_retraction_prerpo.drop(columns = ['Record ID', 'Title', 'Subject', 'Institution', 'Journal', 'Publisher',\n",
    "                                    'Country', 'Author', 'URLS', 'ArticleType', 'RetractionDate',\n",
    "                                    'RetractionDOI', 'RetractionPubMedID', 'OriginalPaperDate',\n",
    "                                    'OriginalPaperDOI', 'OriginalPaperPubMedID', 'RetractionNature',\n",
    "                                    'Reason', 'Paywalled', 'Notes'], inplace = True)\n",
    "\n",
    "df_retraction_thirds.drop(columns = [\"OriginalPaperDate\", \"OriginalPaperPubMedID\"], inplace = True)\n",
    "df_retraction_whole.drop(columns = [\"OriginalPaperDate\", \"OriginalPaperPubMedID\"], inplace = True)"
   ]
  },
  {
   "cell_type": "code",
   "execution_count": 42,
   "metadata": {},
   "outputs": [],
   "source": [
    "# converting to long format and changing the thirds column to numerical instead of string\n",
    "\n",
    "\n",
    "# df_thirds_pos = df_thirds_valence.loc[:,[\"pos_1\", \"pos_2\", \"pos_3\", \"id\"]]\n",
    "# df_thirds_neu = df_thirds_valence.loc[:,[\"neu_1\", \"neu_2\", \"neu_3\", \"id\"]]\n",
    "# df_thirds_neg = df_thirds_valence.loc[:,[\"neg_1\", \"neg_2\", \"neg_3\", \"id\"]]\n",
    "# df_thirds_com = df_thirds_valence.loc[:,[\"compound_1\", \"compound_2\", \"compound_3\", \"id\"]]\n",
    "\n",
    "# df_thirds_pos = df_thirds_pos.melt(id_vars='id', var_name='third', value_name='pos')\n",
    "# df_thirds_neu = df_thirds_neu.melt(id_vars='id', var_name='third', value_name='neu')\n",
    "# df_thirds_neg = df_thirds_neg.melt(id_vars='id', var_name='third', value_name='neg')\n",
    "# df_thirds_com = df_thirds_com.melt(id_vars='id', var_name='third', value_name='com')\n",
    "\n",
    "# df_thirds_pos['third'] = df_thirds_pos['third'].apply(lambda x: int(x[-1]))\n",
    "# df_thirds_neu['third'] = df_thirds_neu['third'].apply(lambda x: int(x[-1]))\n",
    "# df_thirds_neg['third'] = df_thirds_neg['third'].apply(lambda x: int(x[-1]))\n",
    "# df_thirds_com['third'] = df_thirds_com['third'].apply(lambda x: int(x[-1]))\n",
    "\n",
    "# df_thirds_long = pd.merge(df_thirds_pos, df_thirds_neu, on=['id', 'third'])\n",
    "# df_thirds_long = pd.merge(df_thirds_long, df_thirds_neg, on=['id', 'third'])\n",
    "# df_thirds_long = pd.merge(df_thirds_long, df_thirds_com, on=['id', 'third'])\n",
    "\n",
    "\n",
    "\n",
    "df_thirds_pos = df_retraction_thirds.loc[:,[\"pos_1\", \"pos_2\", \"pos_3\", \"id\"]]\n",
    "df_thirds_neu = df_retraction_thirds.loc[:,[\"neu_1\", \"neu_2\", \"neu_3\", \"id\"]]\n",
    "df_thirds_neg = df_retraction_thirds.loc[:,[\"neg_1\", \"neg_2\", \"neg_3\", \"id\"]]\n",
    "df_thirds_com = df_retraction_thirds.loc[:,[\"compound_1\", \"compound_2\", \"compound_3\", \"id\"]]\n",
    "\n",
    "df_thirds_pos = df_thirds_pos.melt(id_vars='id', var_name='third', value_name='pos')\n",
    "df_thirds_neu = df_thirds_neu.melt(id_vars='id', var_name='third', value_name='neu')\n",
    "df_thirds_neg = df_thirds_neg.melt(id_vars='id', var_name='third', value_name='neg')\n",
    "df_thirds_com = df_thirds_com.melt(id_vars='id', var_name='third', value_name='com')\n",
    "\n",
    "df_thirds_pos['third'] = df_thirds_pos['third'].apply(lambda x: int(x[-1]))\n",
    "df_thirds_neu['third'] = df_thirds_neu['third'].apply(lambda x: int(x[-1]))\n",
    "df_thirds_neg['third'] = df_thirds_neg['third'].apply(lambda x: int(x[-1]))\n",
    "df_thirds_com['third'] = df_thirds_com['third'].apply(lambda x: int(x[-1]))\n",
    "\n",
    "df_retraction_thirds_long = pd.merge(df_thirds_pos, df_thirds_neu, on=['id', 'third'])\n",
    "df_retraction_thirds_long = pd.merge(df_retraction_thirds_long, df_thirds_neg, on=['id', 'third'])\n",
    "df_retraction_thirds_long = pd.merge(df_retraction_thirds_long, df_thirds_com, on=['id', 'third'])"
   ]
  },
  {
   "cell_type": "code",
   "execution_count": 10,
   "metadata": {},
   "outputs": [],
   "source": [
    "# creating empty columns for the citations\n",
    "df_meta[\"citations\"] = None"
   ]
  },
  {
   "cell_type": "code",
   "execution_count": 43,
   "metadata": {},
   "outputs": [],
   "source": [
    "# creating a column to display if the abstract is recjected or not\n",
    "df_retraction_prerpo[\"rejected\"] = 1\n"
   ]
  },
  {
   "cell_type": "code",
   "execution_count": 21,
   "metadata": {},
   "outputs": [],
   "source": [
    "df_thirds_long.to_csv(r'E:\\Organization_Project\\files\\Valence_thirds_Combined_readable.csv', index=False)\n",
    "df_prepro.to_csv(r'E:\\Organization_Project\\files\\Text_Combined_df_readable.csv', index=False)\n",
    "df_valence_whole.to_csv(r'E:\\Organization_Project\\files\\Valence_Combined_df_readable.csv', index=False)\n",
    "df_meta.to_csv(r'E:\\Organization_Project\\files\\Meta_Combined_df_readable.csv', index=False)\n",
    "\n",
    "df_retraction_thirds_long.to_csv(r'E:\\Organization_Project\\files\\Retractionwatch\\Retraction_Valence_thirds_Combined_readable.csv', index=False)\n",
    "df_retraction_prerpo.to_csv(r'E:\\Organization_Project\\files\\Retractionwatch\\Retraction_Text_Combined_df_readable.csv', index=False)\n",
    "df_retraction_whole.to_csv(r'E:\\Organization_Project\\files\\Retractionwatch\\Retraction_Valence_Combined_df_readable.csv', index=False)\n",
    "df_retraction_meta.to_csv(r'E:\\Organization_Project\\files\\Retractionwatch\\Retraction_Meta_Combined_df_readable.csv', index=False)\n",
    "df_retraction_data.to_csv(r'E:\\Organization_Project\\files\\Retractionwatch\\Retraction_Data_Combined_df_readable.csv', index=False)"
   ]
  },
  {
   "cell_type": "code",
   "execution_count": 12,
   "metadata": {},
   "outputs": [],
   "source": [
    "df_raw_text.to_csv(r'E:\\Organization_Project\\files\\Raw_Text_Combined_df_readable.csv', index=False)"
   ]
  }
 ],
 "metadata": {
  "kernelspec": {
   "display_name": "Python 3",
   "language": "python",
   "name": "python3"
  },
  "language_info": {
   "codemirror_mode": {
    "name": "ipython",
    "version": 3
   },
   "file_extension": ".py",
   "mimetype": "text/x-python",
   "name": "python",
   "nbconvert_exporter": "python",
   "pygments_lexer": "ipython3",
   "version": "3.11.9"
  }
 },
 "nbformat": 4,
 "nbformat_minor": 2
}
